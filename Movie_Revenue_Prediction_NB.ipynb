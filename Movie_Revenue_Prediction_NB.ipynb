{
 "cells": [
  {
   "cell_type": "markdown",
   "metadata": {},
   "source": [
    "# Movie Revenue Prediction\n",
    "***"
   ]
  },
  {
   "cell_type": "markdown",
   "metadata": {},
   "source": [
    "### Import Packages\n",
    "***"
   ]
  },
  {
   "cell_type": "code",
   "execution_count": 1,
   "metadata": {},
   "outputs": [],
   "source": [
    "# Import the neccessary modules for data manipulation and visual representation\n",
    "import pandas as pd\n",
    "import numpy as np\n",
    "import matplotlib.pyplot as plt\n",
    "import matplotlib as matplot\n",
    "import seaborn as sns\n",
    "%matplotlib inline"
   ]
  },
  {
   "cell_type": "markdown",
   "metadata": {},
   "source": [
    "### Exploratory Data Analysis\n",
    "***"
   ]
  },
  {
   "cell_type": "code",
   "execution_count": 2,
   "metadata": {},
   "outputs": [
    {
     "data": {
      "text/html": [
       "<div>\n",
       "<style scoped>\n",
       "    .dataframe tbody tr th:only-of-type {\n",
       "        vertical-align: middle;\n",
       "    }\n",
       "\n",
       "    .dataframe tbody tr th {\n",
       "        vertical-align: top;\n",
       "    }\n",
       "\n",
       "    .dataframe thead th {\n",
       "        text-align: right;\n",
       "    }\n",
       "</style>\n",
       "<table border=\"1\" class=\"dataframe\">\n",
       "  <thead>\n",
       "    <tr style=\"text-align: right;\">\n",
       "      <th></th>\n",
       "      <th>title</th>\n",
       "      <th>tagline</th>\n",
       "      <th>revenue</th>\n",
       "      <th>budget</th>\n",
       "      <th>genres</th>\n",
       "      <th>homepage</th>\n",
       "      <th>id</th>\n",
       "      <th>keywords</th>\n",
       "      <th>original_language</th>\n",
       "      <th>overview</th>\n",
       "      <th>production_companies</th>\n",
       "      <th>production_countries</th>\n",
       "      <th>release_date</th>\n",
       "      <th>runtime</th>\n",
       "      <th>spoken_languages</th>\n",
       "      <th>status</th>\n",
       "    </tr>\n",
       "  </thead>\n",
       "  <tbody>\n",
       "    <tr>\n",
       "      <th>0</th>\n",
       "      <td>Avatar</td>\n",
       "      <td>Enter the World of Pandora.</td>\n",
       "      <td>2787965087</td>\n",
       "      <td>237000000</td>\n",
       "      <td>[{\"id\": 28, \"name\": \"Action\"}, {\"id\": 12, \"nam...</td>\n",
       "      <td>http://www.avatarmovie.com/</td>\n",
       "      <td>19995</td>\n",
       "      <td>[{\"id\": 1463, \"name\": \"culture clash\"}, {\"id\":...</td>\n",
       "      <td>en</td>\n",
       "      <td>In the 22nd century, a paraplegic Marine is di...</td>\n",
       "      <td>[{\"name\": \"Ingenious Film Partners\", \"id\": 289...</td>\n",
       "      <td>[{\"iso_3166_1\": \"US\", \"name\": \"United States o...</td>\n",
       "      <td>12/10/09</td>\n",
       "      <td>162.0</td>\n",
       "      <td>[{\"iso_639_1\": \"en\", \"name\": \"English\"}, {\"iso...</td>\n",
       "      <td>Released</td>\n",
       "    </tr>\n",
       "    <tr>\n",
       "      <th>1</th>\n",
       "      <td>Pirates of the Caribbean: At World's End</td>\n",
       "      <td>At the end of the world, the adventure begins.</td>\n",
       "      <td>961000000</td>\n",
       "      <td>300000000</td>\n",
       "      <td>[{\"id\": 12, \"name\": \"Adventure\"}, {\"id\": 14, \"...</td>\n",
       "      <td>http://disney.go.com/disneypictures/pirates/</td>\n",
       "      <td>285</td>\n",
       "      <td>[{\"id\": 270, \"name\": \"ocean\"}, {\"id\": 726, \"na...</td>\n",
       "      <td>en</td>\n",
       "      <td>Captain Barbossa, long believed to be dead, ha...</td>\n",
       "      <td>[{\"name\": \"Walt Disney Pictures\", \"id\": 2}, {\"...</td>\n",
       "      <td>[{\"iso_3166_1\": \"US\", \"name\": \"United States o...</td>\n",
       "      <td>5/19/07</td>\n",
       "      <td>169.0</td>\n",
       "      <td>[{\"iso_639_1\": \"en\", \"name\": \"English\"}]</td>\n",
       "      <td>Released</td>\n",
       "    </tr>\n",
       "    <tr>\n",
       "      <th>2</th>\n",
       "      <td>Spectre</td>\n",
       "      <td>A Plan No One Escapes</td>\n",
       "      <td>880674609</td>\n",
       "      <td>245000000</td>\n",
       "      <td>[{\"id\": 28, \"name\": \"Action\"}, {\"id\": 12, \"nam...</td>\n",
       "      <td>http://www.sonypictures.com/movies/spectre/</td>\n",
       "      <td>206647</td>\n",
       "      <td>[{\"id\": 470, \"name\": \"spy\"}, {\"id\": 818, \"name...</td>\n",
       "      <td>en</td>\n",
       "      <td>A cryptic message from Bond’s past sends him o...</td>\n",
       "      <td>[{\"name\": \"Columbia Pictures\", \"id\": 5}, {\"nam...</td>\n",
       "      <td>[{\"iso_3166_1\": \"GB\", \"name\": \"United Kingdom\"...</td>\n",
       "      <td>10/26/15</td>\n",
       "      <td>148.0</td>\n",
       "      <td>[{\"iso_639_1\": \"fr\", \"name\": \"Fran\\u00e7ais\"},...</td>\n",
       "      <td>Released</td>\n",
       "    </tr>\n",
       "    <tr>\n",
       "      <th>3</th>\n",
       "      <td>The Dark Knight Rises</td>\n",
       "      <td>The Legend Ends</td>\n",
       "      <td>1084939099</td>\n",
       "      <td>250000000</td>\n",
       "      <td>[{\"id\": 28, \"name\": \"Action\"}, {\"id\": 80, \"nam...</td>\n",
       "      <td>http://www.thedarkknightrises.com/</td>\n",
       "      <td>49026</td>\n",
       "      <td>[{\"id\": 849, \"name\": \"dc comics\"}, {\"id\": 853,...</td>\n",
       "      <td>en</td>\n",
       "      <td>Following the death of District Attorney Harve...</td>\n",
       "      <td>[{\"name\": \"Legendary Pictures\", \"id\": 923}, {\"...</td>\n",
       "      <td>[{\"iso_3166_1\": \"US\", \"name\": \"United States o...</td>\n",
       "      <td>7/16/12</td>\n",
       "      <td>165.0</td>\n",
       "      <td>[{\"iso_639_1\": \"en\", \"name\": \"English\"}]</td>\n",
       "      <td>Released</td>\n",
       "    </tr>\n",
       "    <tr>\n",
       "      <th>4</th>\n",
       "      <td>John Carter</td>\n",
       "      <td>Lost in our world, found in another.</td>\n",
       "      <td>284139100</td>\n",
       "      <td>260000000</td>\n",
       "      <td>[{\"id\": 28, \"name\": \"Action\"}, {\"id\": 12, \"nam...</td>\n",
       "      <td>http://movies.disney.com/john-carter</td>\n",
       "      <td>49529</td>\n",
       "      <td>[{\"id\": 818, \"name\": \"based on novel\"}, {\"id\":...</td>\n",
       "      <td>en</td>\n",
       "      <td>John Carter is a war-weary, former military ca...</td>\n",
       "      <td>[{\"name\": \"Walt Disney Pictures\", \"id\": 2}]</td>\n",
       "      <td>[{\"iso_3166_1\": \"US\", \"name\": \"United States o...</td>\n",
       "      <td>3/7/12</td>\n",
       "      <td>132.0</td>\n",
       "      <td>[{\"iso_639_1\": \"en\", \"name\": \"English\"}]</td>\n",
       "      <td>Released</td>\n",
       "    </tr>\n",
       "  </tbody>\n",
       "</table>\n",
       "</div>"
      ],
      "text/plain": [
       "                                      title  \\\n",
       "0                                    Avatar   \n",
       "1  Pirates of the Caribbean: At World's End   \n",
       "2                                   Spectre   \n",
       "3                     The Dark Knight Rises   \n",
       "4                               John Carter   \n",
       "\n",
       "                                          tagline     revenue     budget  \\\n",
       "0                     Enter the World of Pandora.  2787965087  237000000   \n",
       "1  At the end of the world, the adventure begins.   961000000  300000000   \n",
       "2                           A Plan No One Escapes   880674609  245000000   \n",
       "3                                 The Legend Ends  1084939099  250000000   \n",
       "4            Lost in our world, found in another.   284139100  260000000   \n",
       "\n",
       "                                              genres  \\\n",
       "0  [{\"id\": 28, \"name\": \"Action\"}, {\"id\": 12, \"nam...   \n",
       "1  [{\"id\": 12, \"name\": \"Adventure\"}, {\"id\": 14, \"...   \n",
       "2  [{\"id\": 28, \"name\": \"Action\"}, {\"id\": 12, \"nam...   \n",
       "3  [{\"id\": 28, \"name\": \"Action\"}, {\"id\": 80, \"nam...   \n",
       "4  [{\"id\": 28, \"name\": \"Action\"}, {\"id\": 12, \"nam...   \n",
       "\n",
       "                                       homepage      id  \\\n",
       "0                   http://www.avatarmovie.com/   19995   \n",
       "1  http://disney.go.com/disneypictures/pirates/     285   \n",
       "2   http://www.sonypictures.com/movies/spectre/  206647   \n",
       "3            http://www.thedarkknightrises.com/   49026   \n",
       "4          http://movies.disney.com/john-carter   49529   \n",
       "\n",
       "                                            keywords original_language  \\\n",
       "0  [{\"id\": 1463, \"name\": \"culture clash\"}, {\"id\":...                en   \n",
       "1  [{\"id\": 270, \"name\": \"ocean\"}, {\"id\": 726, \"na...                en   \n",
       "2  [{\"id\": 470, \"name\": \"spy\"}, {\"id\": 818, \"name...                en   \n",
       "3  [{\"id\": 849, \"name\": \"dc comics\"}, {\"id\": 853,...                en   \n",
       "4  [{\"id\": 818, \"name\": \"based on novel\"}, {\"id\":...                en   \n",
       "\n",
       "                                            overview  \\\n",
       "0  In the 22nd century, a paraplegic Marine is di...   \n",
       "1  Captain Barbossa, long believed to be dead, ha...   \n",
       "2  A cryptic message from Bond’s past sends him o...   \n",
       "3  Following the death of District Attorney Harve...   \n",
       "4  John Carter is a war-weary, former military ca...   \n",
       "\n",
       "                                production_companies  \\\n",
       "0  [{\"name\": \"Ingenious Film Partners\", \"id\": 289...   \n",
       "1  [{\"name\": \"Walt Disney Pictures\", \"id\": 2}, {\"...   \n",
       "2  [{\"name\": \"Columbia Pictures\", \"id\": 5}, {\"nam...   \n",
       "3  [{\"name\": \"Legendary Pictures\", \"id\": 923}, {\"...   \n",
       "4        [{\"name\": \"Walt Disney Pictures\", \"id\": 2}]   \n",
       "\n",
       "                                production_countries release_date  runtime  \\\n",
       "0  [{\"iso_3166_1\": \"US\", \"name\": \"United States o...     12/10/09    162.0   \n",
       "1  [{\"iso_3166_1\": \"US\", \"name\": \"United States o...      5/19/07    169.0   \n",
       "2  [{\"iso_3166_1\": \"GB\", \"name\": \"United Kingdom\"...     10/26/15    148.0   \n",
       "3  [{\"iso_3166_1\": \"US\", \"name\": \"United States o...      7/16/12    165.0   \n",
       "4  [{\"iso_3166_1\": \"US\", \"name\": \"United States o...       3/7/12    132.0   \n",
       "\n",
       "                                    spoken_languages    status  \n",
       "0  [{\"iso_639_1\": \"en\", \"name\": \"English\"}, {\"iso...  Released  \n",
       "1           [{\"iso_639_1\": \"en\", \"name\": \"English\"}]  Released  \n",
       "2  [{\"iso_639_1\": \"fr\", \"name\": \"Fran\\u00e7ais\"},...  Released  \n",
       "3           [{\"iso_639_1\": \"en\", \"name\": \"English\"}]  Released  \n",
       "4           [{\"iso_639_1\": \"en\", \"name\": \"English\"}]  Released  "
      ]
     },
     "execution_count": 2,
     "metadata": {},
     "output_type": "execute_result"
    }
   ],
   "source": [
    "# Load dataset\n",
    "movie_ds = pd.read_csv(\"../Movie_Prediction_Analysis/movie_revenue_predictions.csv\")\n",
    "movie_ds.head()"
   ]
  },
  {
   "cell_type": "code",
   "execution_count": 3,
   "metadata": {},
   "outputs": [
    {
     "data": {
      "text/plain": [
       "(4803, 16)"
      ]
     },
     "execution_count": 3,
     "metadata": {},
     "output_type": "execute_result"
    }
   ],
   "source": [
    "movie_ds.shape"
   ]
  },
  {
   "cell_type": "code",
   "execution_count": 4,
   "metadata": {},
   "outputs": [
    {
     "name": "stdout",
     "output_type": "stream",
     "text": [
      "<class 'pandas.core.frame.DataFrame'>\n",
      "RangeIndex: 4803 entries, 0 to 4802\n",
      "Data columns (total 16 columns):\n",
      "title                   4803 non-null object\n",
      "tagline                 3959 non-null object\n",
      "revenue                 4803 non-null int64\n",
      "budget                  4803 non-null int64\n",
      "genres                  4803 non-null object\n",
      "homepage                1712 non-null object\n",
      "id                      4803 non-null int64\n",
      "keywords                4803 non-null object\n",
      "original_language       4803 non-null object\n",
      "overview                4800 non-null object\n",
      "production_companies    4803 non-null object\n",
      "production_countries    4803 non-null object\n",
      "release_date            4802 non-null object\n",
      "runtime                 4801 non-null float64\n",
      "spoken_languages        4803 non-null object\n",
      "status                  4803 non-null object\n",
      "dtypes: float64(1), int64(3), object(12)\n",
      "memory usage: 600.5+ KB\n"
     ]
    }
   ],
   "source": [
    "movie_ds.info()"
   ]
  },
  {
   "cell_type": "markdown",
   "metadata": {},
   "source": [
    "### Check for null values in any column"
   ]
  },
  {
   "cell_type": "code",
   "execution_count": 5,
   "metadata": {
    "scrolled": true
   },
   "outputs": [
    {
     "data": {
      "text/plain": [
       "title                   False\n",
       "tagline                  True\n",
       "revenue                 False\n",
       "budget                  False\n",
       "genres                  False\n",
       "homepage                 True\n",
       "id                      False\n",
       "keywords                False\n",
       "original_language       False\n",
       "overview                 True\n",
       "production_companies    False\n",
       "production_countries    False\n",
       "release_date             True\n",
       "runtime                  True\n",
       "spoken_languages        False\n",
       "status                  False\n",
       "dtype: bool"
      ]
     },
     "execution_count": 5,
     "metadata": {},
     "output_type": "execute_result"
    }
   ],
   "source": [
    "movie_ds.isnull().any()"
   ]
  },
  {
   "cell_type": "code",
   "execution_count": 6,
   "metadata": {},
   "outputs": [
    {
     "data": {
      "image/png": "[encoded data removed]",
      "text/plain": [
       "<Figure size 1080x792 with 1 Axes>"
      ]
     },
     "metadata": {
      "needs_background": "light"
     },
     "output_type": "display_data"
    }
   ],
   "source": [
    "#How language contributes to revenue\n",
    "plt.figure(figsize=(15,11)) #figure size\n",
    "\n",
    "#It's another way to plot our data. using a variable that contains the plot parameters\n",
    "g1 = sns.boxenplot(x='original_language', y='revenue', \n",
    "                   data=movie_ds[(movie_ds['original_language'].isin((movie_ds['original_language'].sort_values().value_counts()[:10].index.values)))])\n",
    "g1.set_title(\"Revenue by language\", fontsize=20) # title and fontsize\n",
    "g1.set_xticklabels(g1.get_xticklabels(),rotation=45) # It's the way to rotate the xticks when we use variable to our graphs\n",
    "g1.set_xlabel('Language', fontsize=18) # Xlabel\n",
    "g1.set_ylabel('Revenue', fontsize=18) #Ylabel\n",
    "\n",
    "plt.show()"
   ]
  },
  {
   "cell_type": "markdown",
   "metadata": {},
   "source": [
    "#### The languages en, ja, zh are the leading contributor in the revenue of the movies"
   ]
  },
  {
   "cell_type": "code",
   "execution_count": 7,
   "metadata": {},
   "outputs": [],
   "source": [
    "#Check how revenue depends of day\n",
    "movie_ds['release_date'] = pd.to_datetime(movie_ds['release_date'])"
   ]
  },
  {
   "cell_type": "code",
   "execution_count": 8,
   "metadata": {},
   "outputs": [
    {
     "data": {
      "image/png": "[encoded data removed]",
      "text/plain": [
       "<Figure size 432x288 with 1 Axes>"
      ]
     },
     "metadata": {
      "needs_background": "light"
     },
     "output_type": "display_data"
    }
   ],
   "source": [
    "release_day = movie_ds['release_date'].value_counts().sort_index()\n",
    "release_day_revenue = movie_ds.groupby(['release_date'])['revenue'].sum()\n",
    "release_day_revenue.index = release_day_revenue.index.dayofweek\n",
    "sns.barplot(release_day_revenue.index,release_day_revenue, data = movie_ds,ci=None)\n",
    "plt.show()"
   ]
  },
  {
   "cell_type": "markdown",
   "metadata": {},
   "source": [
    "### Creating a correlation matrix for the columns"
   ]
  },
  {
   "cell_type": "code",
   "execution_count": 9,
   "metadata": {},
   "outputs": [
    {
     "data": {
      "text/html": [
       "<div>\n",
       "<style scoped>\n",
       "    .dataframe tbody tr th:only-of-type {\n",
       "        vertical-align: middle;\n",
       "    }\n",
       "\n",
       "    .dataframe tbody tr th {\n",
       "        vertical-align: top;\n",
       "    }\n",
       "\n",
       "    .dataframe thead th {\n",
       "        text-align: right;\n",
       "    }\n",
       "</style>\n",
       "<table border=\"1\" class=\"dataframe\">\n",
       "  <thead>\n",
       "    <tr style=\"text-align: right;\">\n",
       "      <th></th>\n",
       "      <th>revenue</th>\n",
       "      <th>budget</th>\n",
       "      <th>id</th>\n",
       "      <th>runtime</th>\n",
       "    </tr>\n",
       "  </thead>\n",
       "  <tbody>\n",
       "    <tr>\n",
       "      <th>revenue</th>\n",
       "      <td>1.000000</td>\n",
       "      <td>0.730823</td>\n",
       "      <td>-0.050425</td>\n",
       "      <td>0.251093</td>\n",
       "    </tr>\n",
       "    <tr>\n",
       "      <th>budget</th>\n",
       "      <td>0.730823</td>\n",
       "      <td>1.000000</td>\n",
       "      <td>-0.089377</td>\n",
       "      <td>0.269851</td>\n",
       "    </tr>\n",
       "    <tr>\n",
       "      <th>id</th>\n",
       "      <td>-0.050425</td>\n",
       "      <td>-0.089377</td>\n",
       "      <td>1.000000</td>\n",
       "      <td>-0.153536</td>\n",
       "    </tr>\n",
       "    <tr>\n",
       "      <th>runtime</th>\n",
       "      <td>0.251093</td>\n",
       "      <td>0.269851</td>\n",
       "      <td>-0.153536</td>\n",
       "      <td>1.000000</td>\n",
       "    </tr>\n",
       "  </tbody>\n",
       "</table>\n",
       "</div>"
      ],
      "text/plain": [
       "          revenue    budget        id   runtime\n",
       "revenue  1.000000  0.730823 -0.050425  0.251093\n",
       "budget   0.730823  1.000000 -0.089377  0.269851\n",
       "id      -0.050425 -0.089377  1.000000 -0.153536\n",
       "runtime  0.251093  0.269851 -0.153536  1.000000"
      ]
     },
     "execution_count": 9,
     "metadata": {},
     "output_type": "execute_result"
    },
    {
     "data": {
      "image/png": "[encoded data removed]",
      "text/plain": [
       "<Figure size 432x288 with 2 Axes>"
      ]
     },
     "metadata": {
      "needs_background": "light"
     },
     "output_type": "display_data"
    },
    {
     "data": {
      "text/plain": [
       "<Figure size 1440x720 with 0 Axes>"
      ]
     },
     "metadata": {},
     "output_type": "display_data"
    }
   ],
   "source": [
    " # Create a correlation matrix.\n",
    "corr = movie_ds.corr()\n",
    "sns.heatmap(corr, \n",
    "            xticklabels=corr.columns.values,\n",
    "            yticklabels=corr.columns.values)\n",
    "plt.title('Heatmap of Correlation Matrix')\n",
    "\n",
    "plt.figure(figsize=(20,10))\n",
    "\n",
    "corr"
   ]
  },
  {
   "cell_type": "code",
   "execution_count": 10,
   "metadata": {},
   "outputs": [
    {
     "data": {
      "text/plain": [
       "<seaborn.axisgrid.PairGrid at 0x2814ee701d0>"
      ]
     },
     "execution_count": 10,
     "metadata": {},
     "output_type": "execute_result"
    },
    {
     "data": {
      "image/png": "[encoded data removed]",
      "text/plain": [
       "<Figure size 576x288 with 2 Axes>"
      ]
     },
     "metadata": {
      "needs_background": "light"
     },
     "output_type": "display_data"
    }
   ],
   "source": [
    "# visualize the relationship between the features and the response using scatterplots\n",
    "sns.pairplot(movie_ds, x_vars=['budget', 'runtime'], y_vars='revenue', height=4, aspect=1)"
   ]
  },
  {
   "cell_type": "markdown",
   "metadata": {},
   "source": [
    "### Drop Features\n",
    "\n",
    "As some of the columns/features are irrelevant and have a lot of missing values as well and would not contribute to our analysis, therefore we can drop those columns to focus of relevant features for prediction."
   ]
  },
  {
   "cell_type": "code",
   "execution_count": 11,
   "metadata": {},
   "outputs": [],
   "source": [
    "movie_ds.drop(['title','tagline','genres','homepage','id','keywords','overview','production_companies','production_countries',\n",
    "              'release_date', 'spoken_languages'],axis=1,inplace=True)"
   ]
  },
  {
   "cell_type": "code",
   "execution_count": 12,
   "metadata": {},
   "outputs": [
    {
     "data": {
      "text/plain": [
       "revenue              False\n",
       "budget               False\n",
       "original_language    False\n",
       "runtime               True\n",
       "status               False\n",
       "dtype: bool"
      ]
     },
     "execution_count": 12,
     "metadata": {},
     "output_type": "execute_result"
    }
   ],
   "source": [
    "movie_ds.isnull().any()"
   ]
  },
  {
   "cell_type": "code",
   "execution_count": 13,
   "metadata": {},
   "outputs": [],
   "source": [
    "### SCIKIT-LEARN ###\n",
    "\n",
    "# create X and Y\n",
    "#feature_cols = ['budget']\n",
    "X_ind = movie_ds.iloc[:,1:2].values\n",
    "Y_dep = movie_ds.iloc[:,0:1].values\n"
   ]
  },
  {
   "cell_type": "markdown",
   "metadata": {},
   "source": [
    "### Splitting the dataset into training set and test set"
   ]
  },
  {
   "cell_type": "code",
   "execution_count": 14,
   "metadata": {},
   "outputs": [],
   "source": [
    "from sklearn.model_selection import train_test_split\n",
    "X_train, X_test, Y_train, Y_test = train_test_split(X_ind, Y_dep, test_size = 0.20, random_state = 0)"
   ]
  },
  {
   "cell_type": "markdown",
   "metadata": {},
   "source": [
    "### Simple Linear Regression\n",
    "\n",
    "Simple linear regression is an approach for predicting a quantitative response using a single feature (or \"predictor\" or \"input variable\")\n",
    "It takes the following form:\n",
    "y=β0+β1x \n",
    "What does each term represent?\n",
    "\n",
    "y  is the response\n",
    "x  is the feature\n",
    "β0  is the intercept\n",
    "β1  is the coefficient for x\n",
    "\n",
    "β0  and  β1  are called the model coefficients\n",
    "***"
   ]
  },
  {
   "cell_type": "code",
   "execution_count": 15,
   "metadata": {},
   "outputs": [
    {
     "data": {
      "text/plain": [
       "LinearRegression(copy_X=True, fit_intercept=True, n_jobs=1, normalize=False)"
      ]
     },
     "execution_count": 15,
     "metadata": {},
     "output_type": "execute_result"
    }
   ],
   "source": [
    "## Fitting Simple Linear Regression to the training set\n",
    "\n",
    "from sklearn.linear_model import LinearRegression\n",
    "regressor = LinearRegression()\n",
    "regressor.fit(X_train, Y_train)"
   ]
  },
  {
   "cell_type": "code",
   "execution_count": 16,
   "metadata": {},
   "outputs": [],
   "source": [
    "## Predicting the test set result\n",
    "Y_pred = regressor.predict(X_test)"
   ]
  },
  {
   "cell_type": "code",
   "execution_count": 17,
   "metadata": {},
   "outputs": [
    {
     "data": {
      "image/png": "[encoded data removed]",
      "text/plain": [
       "<Figure size 432x288 with 1 Axes>"
      ]
     },
     "metadata": {
      "needs_background": "light"
     },
     "output_type": "display_data"
    }
   ],
   "source": [
    "# Visualising the Training set results\n",
    "plt.scatter(X_train, Y_train, color = 'red')\n",
    "plt.plot(X_train, regressor.predict(X_train), color = 'blue')\n",
    "plt.title('Revenue vs Budget (Training set)')\n",
    "plt.xlabel('Budget')\n",
    "plt.ylabel('Revenue')\n",
    "plt.show()"
   ]
  },
  {
   "cell_type": "code",
   "execution_count": 18,
   "metadata": {},
   "outputs": [
    {
     "data": {
      "image/png": "[encoded data removed]",
      "text/plain": [
       "<Figure size 432x288 with 1 Axes>"
      ]
     },
     "metadata": {
      "needs_background": "light"
     },
     "output_type": "display_data"
    }
   ],
   "source": [
    "# Visualising the Test set results\n",
    "plt.scatter(X_test, Y_test, color = 'red')\n",
    "plt.plot(X_train, regressor.predict(X_train), color = 'blue')\n",
    "plt.title('Revenue vs Budget (Test set)')\n",
    "plt.xlabel('Budget')\n",
    "plt.ylabel('Revenue')\n",
    "plt.show()"
   ]
  },
  {
   "cell_type": "code",
   "execution_count": 19,
   "metadata": {},
   "outputs": [
    {
     "name": "stdout",
     "output_type": "stream",
     "text": [
      "The r-squared value is: 0.5416677030307677\n",
      "The explained variance score is: 0.5417080767079132\n",
      "The MAE is: 57711721.8289766\n",
      "The MSE is: 1.2622772248139182e+16\n"
     ]
    }
   ],
   "source": [
    "from sklearn.metrics import r2_score, explained_variance_score, mean_absolute_error, mean_squared_error\n",
    "#from sklearn.metrics import explained_variance_score\n",
    "print('The r-squared value is:',r2_score(Y_test, Y_pred))\n",
    "print('The explained variance score is:',explained_variance_score(Y_test, Y_pred))\n",
    "print('The MAE is:',mean_absolute_error(Y_test, Y_pred))\n",
    "print('The MSE is:',mean_squared_error(Y_test, Y_pred))\n"
   ]
  },
  {
   "cell_type": "markdown",
   "metadata": {},
   "source": [
    "## Data pre-processing\n",
    "***"
   ]
  },
  {
   "cell_type": "markdown",
   "metadata": {},
   "source": [
    "### Assign two variables one the independent variable that contains all the features and second the dependent variable that contains the values that need to be predicted"
   ]
  },
  {
   "cell_type": "code",
   "execution_count": 20,
   "metadata": {},
   "outputs": [],
   "source": [
    "X = movie_ds.iloc[:,1:].values\n",
    "y = movie_ds.iloc[:, 0].values"
   ]
  },
  {
   "cell_type": "code",
   "execution_count": 21,
   "metadata": {},
   "outputs": [
    {
     "data": {
      "text/plain": [
       "array([[237000000, 'en', 162.0, 'Released'],\n",
       "       [300000000, 'en', 169.0, 'Released'],\n",
       "       [245000000, 'en', 148.0, 'Released'],\n",
       "       ...,\n",
       "       [0, 'en', 120.0, 'Released'],\n",
       "       [0, 'en', 98.0, 'Released'],\n",
       "       [0, 'en', 90.0, 'Released']], dtype=object)"
      ]
     },
     "execution_count": 21,
     "metadata": {},
     "output_type": "execute_result"
    }
   ],
   "source": [
    "X"
   ]
  },
  {
   "cell_type": "markdown",
   "metadata": {},
   "source": [
    "### Handle the missing values"
   ]
  },
  {
   "cell_type": "code",
   "execution_count": 22,
   "metadata": {},
   "outputs": [],
   "source": [
    "from sklearn.preprocessing import Imputer\n",
    "imputer = Imputer(missing_values = 'NaN', strategy = 'mean', axis = 0)\n",
    "imputer = imputer.fit(X[:,2:3])\n",
    "X[:,2:3] = imputer.transform(X[:,2:3])"
   ]
  },
  {
   "cell_type": "markdown",
   "metadata": {},
   "source": [
    "### Encoding the categorical variable "
   ]
  },
  {
   "cell_type": "code",
   "execution_count": 23,
   "metadata": {},
   "outputs": [],
   "source": [
    "# Encoding categorical data\n",
    "# Encoding the Independent Variable\n",
    "from sklearn.preprocessing import LabelEncoder, OneHotEncoder\n",
    "labelencoder_X = LabelEncoder()\n",
    "X[:, 1] = labelencoder_X.fit_transform(X[:, 1])\n",
    "\n",
    "labelencoder_X = LabelEncoder()\n",
    "X[:, 3] = labelencoder_X.fit_transform(X[:, 3])\n",
    "\n",
    "onehotencoder = OneHotEncoder(categorical_features = [1,3])\n",
    "X = onehotencoder.fit_transform(X).toarray()"
   ]
  },
  {
   "cell_type": "markdown",
   "metadata": {},
   "source": [
    "### Multiple Linear Regression"
   ]
  },
  {
   "cell_type": "code",
   "execution_count": 24,
   "metadata": {},
   "outputs": [
    {
     "data": {
      "text/plain": [
       "(4803, 42)"
      ]
     },
     "execution_count": 24,
     "metadata": {},
     "output_type": "execute_result"
    }
   ],
   "source": [
    "X.shape"
   ]
  },
  {
   "cell_type": "code",
   "execution_count": 25,
   "metadata": {},
   "outputs": [],
   "source": [
    "# Splitting the dataset into the Training set and Test set\n",
    "from sklearn.model_selection import train_test_split\n",
    "X_train1, X_test1, y_train1, y_test1 = train_test_split(X, y, test_size = 0.2, random_state = 0)"
   ]
  },
  {
   "cell_type": "code",
   "execution_count": 26,
   "metadata": {},
   "outputs": [
    {
     "data": {
      "text/plain": [
       "LinearRegression(copy_X=True, fit_intercept=True, n_jobs=1, normalize=False)"
      ]
     },
     "execution_count": 26,
     "metadata": {},
     "output_type": "execute_result"
    }
   ],
   "source": [
    "# Fitting Multiple Linear Regression to the Training set\n",
    "from sklearn.linear_model import LinearRegression\n",
    "regressor = LinearRegression()\n",
    "regressor.fit(X_train1, y_train1)"
   ]
  },
  {
   "cell_type": "code",
   "execution_count": 27,
   "metadata": {},
   "outputs": [],
   "source": [
    "# Predicting the Test set results\n",
    "y_pred1 = regressor.predict(X_test1)"
   ]
  },
  {
   "cell_type": "code",
   "execution_count": 28,
   "metadata": {},
   "outputs": [
    {
     "name": "stdout",
     "output_type": "stream",
     "text": [
      "The r-squared value is: 0.54397524700436\n",
      "The explained variance score is: 0.5440278170531814\n",
      "The MAE is: 59213055.73399486\n",
      "The MSE is: 1.2559220972735224e+16\n"
     ]
    }
   ],
   "source": [
    "from sklearn.metrics import r2_score, explained_variance_score, mean_absolute_error, mean_squared_error\n",
    "#from sklearn.metrics import explained_variance_score\n",
    "print('The r-squared value is:',r2_score(y_test1, y_pred1))\n",
    "print('The explained variance score is:',explained_variance_score(y_test1, y_pred1))\n",
    "print('The MAE is:',mean_absolute_error(y_test1, y_pred1))\n",
    "print('The MSE is:',mean_squared_error(y_test1, y_pred1))"
   ]
  },
  {
   "cell_type": "markdown",
   "metadata": {},
   "source": [
    "## Backward Elimination"
   ]
  },
  {
   "cell_type": "code",
   "execution_count": 29,
   "metadata": {},
   "outputs": [
    {
     "data": {
      "text/plain": [
       "array([[1.00e+00, 0.00e+00, 0.00e+00, ..., 0.00e+00, 2.37e+08, 1.62e+02],\n",
       "       [1.00e+00, 0.00e+00, 0.00e+00, ..., 0.00e+00, 3.00e+08, 1.69e+02],\n",
       "       [1.00e+00, 0.00e+00, 0.00e+00, ..., 0.00e+00, 2.45e+08, 1.48e+02],\n",
       "       ...,\n",
       "       [1.00e+00, 0.00e+00, 0.00e+00, ..., 0.00e+00, 0.00e+00, 1.20e+02],\n",
       "       [1.00e+00, 0.00e+00, 0.00e+00, ..., 0.00e+00, 0.00e+00, 9.80e+01],\n",
       "       [1.00e+00, 0.00e+00, 0.00e+00, ..., 0.00e+00, 0.00e+00, 9.00e+01]])"
      ]
     },
     "execution_count": 29,
     "metadata": {},
     "output_type": "execute_result"
    }
   ],
   "source": [
    "import statsmodels.formula.api as sm\n",
    "X = np.append(arr = np.ones((4803,1)).astype(int), values= X, axis = 1)\n",
    "X"
   ]
  },
  {
   "cell_type": "code",
   "execution_count": 30,
   "metadata": {},
   "outputs": [
    {
     "data": {
      "text/html": [
       "<table class=\"simpletable\">\n",
       "<caption>OLS Regression Results</caption>\n",
       "<tr>\n",
       "  <th>Dep. Variable:</th>            <td>y</td>        <th>  R-squared:         </th> <td>   0.538</td> \n",
       "</tr>\n",
       "<tr>\n",
       "  <th>Model:</th>                   <td>OLS</td>       <th>  Adj. R-squared:    </th> <td>   0.534</td> \n",
       "</tr>\n",
       "<tr>\n",
       "  <th>Method:</th>             <td>Least Squares</td>  <th>  F-statistic:       </th> <td>   138.5</td> \n",
       "</tr>\n",
       "<tr>\n",
       "  <th>Date:</th>             <td>Wed, 16 Oct 2019</td> <th>  Prob (F-statistic):</th>  <td>  0.00</td>  \n",
       "</tr>\n",
       "<tr>\n",
       "  <th>Time:</th>                 <td>21:24:49</td>     <th>  Log-Likelihood:    </th> <td> -95779.</td> \n",
       "</tr>\n",
       "<tr>\n",
       "  <th>No. Observations:</th>      <td>  4803</td>      <th>  AIC:               </th> <td>1.916e+05</td>\n",
       "</tr>\n",
       "<tr>\n",
       "  <th>Df Residuals:</th>          <td>  4762</td>      <th>  BIC:               </th> <td>1.919e+05</td>\n",
       "</tr>\n",
       "<tr>\n",
       "  <th>Df Model:</th>              <td>    40</td>      <th>                     </th>     <td> </td>    \n",
       "</tr>\n",
       "<tr>\n",
       "  <th>Covariance Type:</th>      <td>nonrobust</td>    <th>                     </th>     <td> </td>    \n",
       "</tr>\n",
       "</table>\n",
       "<table class=\"simpletable\">\n",
       "<tr>\n",
       "    <td></td>       <th>coef</th>     <th>std err</th>      <th>t</th>      <th>P>|t|</th>  <th>[0.025</th>    <th>0.975]</th>  \n",
       "</tr>\n",
       "<tr>\n",
       "  <th>const</th> <td>-3.451e+07</td> <td> 2.33e+07</td> <td>   -1.480</td> <td> 0.139</td> <td>-8.02e+07</td> <td> 1.12e+07</td>\n",
       "</tr>\n",
       "<tr>\n",
       "  <th>x1</th>    <td> 1.143e+07</td> <td> 1.09e+08</td> <td>    0.105</td> <td> 0.916</td> <td>-2.02e+08</td> <td> 2.25e+08</td>\n",
       "</tr>\n",
       "<tr>\n",
       "  <th>x2</th>    <td> 1.098e+07</td> <td> 7.76e+07</td> <td>    0.141</td> <td> 0.888</td> <td>-1.41e+08</td> <td> 1.63e+08</td>\n",
       "</tr>\n",
       "<tr>\n",
       "  <th>x3</th>    <td> 8.581e+06</td> <td> 3.38e+07</td> <td>    0.254</td> <td> 0.799</td> <td>-5.76e+07</td> <td> 7.48e+07</td>\n",
       "</tr>\n",
       "<tr>\n",
       "  <th>x4</th>    <td> 4.863e+06</td> <td> 8.46e+07</td> <td>    0.057</td> <td> 0.954</td> <td>-1.61e+08</td> <td> 1.71e+08</td>\n",
       "</tr>\n",
       "<tr>\n",
       "  <th>x5</th>    <td> 2.996e+05</td> <td> 4.29e+07</td> <td>    0.007</td> <td> 0.994</td> <td>-8.37e+07</td> <td> 8.43e+07</td>\n",
       "</tr>\n",
       "<tr>\n",
       "  <th>x6</th>    <td>-6.494e+06</td> <td> 2.45e+07</td> <td>   -0.266</td> <td> 0.791</td> <td>-5.44e+07</td> <td> 4.14e+07</td>\n",
       "</tr>\n",
       "<tr>\n",
       "  <th>x7</th>    <td> 1.022e+07</td> <td> 1.09e+08</td> <td>    0.094</td> <td> 0.925</td> <td>-2.03e+08</td> <td> 2.24e+08</td>\n",
       "</tr>\n",
       "<tr>\n",
       "  <th>x8</th>    <td> 4.457e+06</td> <td>  1.3e+07</td> <td>    0.344</td> <td> 0.731</td> <td>-2.09e+07</td> <td> 2.99e+07</td>\n",
       "</tr>\n",
       "<tr>\n",
       "  <th>x9</th>    <td> 5.522e+06</td> <td>  2.3e+07</td> <td>    0.240</td> <td> 0.810</td> <td>-3.96e+07</td> <td> 5.07e+07</td>\n",
       "</tr>\n",
       "<tr>\n",
       "  <th>x10</th>   <td> 6.049e+06</td> <td> 5.56e+07</td> <td>    0.109</td> <td> 0.913</td> <td>-1.03e+08</td> <td> 1.15e+08</td>\n",
       "</tr>\n",
       "<tr>\n",
       "  <th>x11</th>   <td>-6.451e+06</td> <td> 1.82e+07</td> <td>   -0.354</td> <td> 0.723</td> <td>-4.22e+07</td> <td> 2.93e+07</td>\n",
       "</tr>\n",
       "<tr>\n",
       "  <th>x12</th>   <td> 5.831e+06</td> <td> 6.38e+07</td> <td>    0.091</td> <td> 0.927</td> <td>-1.19e+08</td> <td> 1.31e+08</td>\n",
       "</tr>\n",
       "<tr>\n",
       "  <th>x13</th>   <td> -6.73e+06</td> <td>  2.8e+07</td> <td>   -0.240</td> <td> 0.810</td> <td>-6.17e+07</td> <td> 4.82e+07</td>\n",
       "</tr>\n",
       "<tr>\n",
       "  <th>x14</th>   <td>-9.878e+06</td> <td> 1.09e+08</td> <td>   -0.091</td> <td> 0.928</td> <td>-2.24e+08</td> <td> 2.04e+08</td>\n",
       "</tr>\n",
       "<tr>\n",
       "  <th>x15</th>   <td> 3.304e+06</td> <td> 7.76e+07</td> <td>    0.043</td> <td> 0.966</td> <td>-1.49e+08</td> <td> 1.55e+08</td>\n",
       "</tr>\n",
       "<tr>\n",
       "  <th>x16</th>   <td> 1.402e+07</td> <td> 1.09e+08</td> <td>    0.129</td> <td> 0.898</td> <td>   -2e+08</td> <td> 2.28e+08</td>\n",
       "</tr>\n",
       "<tr>\n",
       "  <th>x17</th>   <td>-3.983e+06</td> <td> 3.16e+07</td> <td>   -0.126</td> <td> 0.900</td> <td> -6.6e+07</td> <td>  5.8e+07</td>\n",
       "</tr>\n",
       "<tr>\n",
       "  <th>x18</th>   <td> 2.298e+07</td> <td> 2.99e+07</td> <td>    0.768</td> <td> 0.443</td> <td>-3.57e+07</td> <td> 8.17e+07</td>\n",
       "</tr>\n",
       "<tr>\n",
       "  <th>x19</th>   <td>-1.821e+07</td> <td> 3.51e+07</td> <td>   -0.519</td> <td> 0.603</td> <td> -8.7e+07</td> <td> 5.05e+07</td>\n",
       "</tr>\n",
       "<tr>\n",
       "  <th>x20</th>   <td>-7.706e+06</td> <td> 1.09e+08</td> <td>   -0.071</td> <td> 0.944</td> <td>-2.21e+08</td> <td> 2.06e+08</td>\n",
       "</tr>\n",
       "<tr>\n",
       "  <th>x21</th>   <td> 3.728e+05</td> <td> 1.09e+08</td> <td>    0.003</td> <td> 0.997</td> <td>-2.13e+08</td> <td> 2.14e+08</td>\n",
       "</tr>\n",
       "<tr>\n",
       "  <th>x22</th>   <td>-1.478e+07</td> <td> 5.56e+07</td> <td>   -0.266</td> <td> 0.790</td> <td>-1.24e+08</td> <td> 9.42e+07</td>\n",
       "</tr>\n",
       "<tr>\n",
       "  <th>x23</th>   <td> 1.111e+07</td> <td> 1.09e+08</td> <td>    0.102</td> <td> 0.919</td> <td>-2.03e+08</td> <td> 2.25e+08</td>\n",
       "</tr>\n",
       "<tr>\n",
       "  <th>x24</th>   <td> 2.073e+07</td> <td> 1.09e+08</td> <td>    0.190</td> <td> 0.849</td> <td>-1.93e+08</td> <td> 2.34e+08</td>\n",
       "</tr>\n",
       "<tr>\n",
       "  <th>x25</th>   <td> 1.475e+07</td> <td> 1.09e+08</td> <td>    0.135</td> <td> 0.892</td> <td>-1.99e+08</td> <td> 2.28e+08</td>\n",
       "</tr>\n",
       "<tr>\n",
       "  <th>x26</th>   <td> 3.998e+06</td> <td> 3.83e+07</td> <td>    0.104</td> <td> 0.917</td> <td> -7.1e+07</td> <td>  7.9e+07</td>\n",
       "</tr>\n",
       "<tr>\n",
       "  <th>x27</th>   <td> 3.184e+06</td> <td> 7.76e+07</td> <td>    0.041</td> <td> 0.967</td> <td>-1.49e+08</td> <td> 1.55e+08</td>\n",
       "</tr>\n",
       "<tr>\n",
       "  <th>x28</th>   <td>-3.011e+07</td> <td> 3.51e+07</td> <td>   -0.859</td> <td> 0.390</td> <td>-9.88e+07</td> <td> 3.86e+07</td>\n",
       "</tr>\n",
       "<tr>\n",
       "  <th>x29</th>   <td> 1.489e+07</td> <td> 1.09e+08</td> <td>    0.137</td> <td> 0.891</td> <td>-1.99e+08</td> <td> 2.29e+08</td>\n",
       "</tr>\n",
       "<tr>\n",
       "  <th>x30</th>   <td>-1.502e+07</td> <td> 5.01e+07</td> <td>   -0.300</td> <td> 0.764</td> <td>-1.13e+08</td> <td> 8.31e+07</td>\n",
       "</tr>\n",
       "<tr>\n",
       "  <th>x31</th>   <td>-1.965e+07</td> <td> 7.77e+07</td> <td>   -0.253</td> <td> 0.800</td> <td>-1.72e+08</td> <td> 1.33e+08</td>\n",
       "</tr>\n",
       "<tr>\n",
       "  <th>x32</th>   <td>-3.223e+07</td> <td> 1.09e+08</td> <td>   -0.296</td> <td> 0.768</td> <td>-2.46e+08</td> <td> 1.81e+08</td>\n",
       "</tr>\n",
       "<tr>\n",
       "  <th>x33</th>   <td> -7.43e+06</td> <td> 6.38e+07</td> <td>   -0.116</td> <td> 0.907</td> <td>-1.32e+08</td> <td> 1.18e+08</td>\n",
       "</tr>\n",
       "<tr>\n",
       "  <th>x34</th>   <td>-3.058e+07</td> <td> 1.09e+08</td> <td>   -0.281</td> <td> 0.779</td> <td>-2.44e+08</td> <td> 1.83e+08</td>\n",
       "</tr>\n",
       "<tr>\n",
       "  <th>x35</th>   <td>-1.077e+07</td> <td> 1.09e+08</td> <td>   -0.099</td> <td> 0.921</td> <td>-2.24e+08</td> <td> 2.03e+08</td>\n",
       "</tr>\n",
       "<tr>\n",
       "  <th>x36</th>   <td> 2.853e+07</td> <td> 1.09e+08</td> <td>    0.262</td> <td> 0.793</td> <td>-1.85e+08</td> <td> 2.42e+08</td>\n",
       "</tr>\n",
       "<tr>\n",
       "  <th>x37</th>   <td>-2.057e+07</td> <td> 2.45e+07</td> <td>   -0.841</td> <td> 0.400</td> <td>-6.85e+07</td> <td> 2.74e+07</td>\n",
       "</tr>\n",
       "<tr>\n",
       "  <th>x38</th>   <td>-1.507e+07</td> <td>  5.4e+07</td> <td>   -0.279</td> <td> 0.780</td> <td>-1.21e+08</td> <td> 9.08e+07</td>\n",
       "</tr>\n",
       "<tr>\n",
       "  <th>x39</th>   <td>-1.644e+07</td> <td> 2.23e+07</td> <td>   -0.738</td> <td> 0.461</td> <td>-6.01e+07</td> <td> 2.72e+07</td>\n",
       "</tr>\n",
       "<tr>\n",
       "  <th>x40</th>   <td>-2.999e+06</td> <td> 4.14e+07</td> <td>   -0.072</td> <td> 0.942</td> <td>-8.43e+07</td> <td> 7.83e+07</td>\n",
       "</tr>\n",
       "<tr>\n",
       "  <th>x41</th>   <td>    2.8523</td> <td>    0.041</td> <td>   68.777</td> <td> 0.000</td> <td>    2.771</td> <td>    2.934</td>\n",
       "</tr>\n",
       "<tr>\n",
       "  <th>x42</th>   <td> 4.344e+05</td> <td> 7.49e+04</td> <td>    5.803</td> <td> 0.000</td> <td> 2.88e+05</td> <td> 5.81e+05</td>\n",
       "</tr>\n",
       "</table>\n",
       "<table class=\"simpletable\">\n",
       "<tr>\n",
       "  <th>Omnibus:</th>       <td>4233.211</td> <th>  Durbin-Watson:     </th>  <td>   1.518</td> \n",
       "</tr>\n",
       "<tr>\n",
       "  <th>Prob(Omnibus):</th>  <td> 0.000</td>  <th>  Jarque-Bera (JB):  </th> <td>374564.014</td>\n",
       "</tr>\n",
       "<tr>\n",
       "  <th>Skew:</th>           <td> 3.791</td>  <th>  Prob(JB):          </th>  <td>    0.00</td> \n",
       "</tr>\n",
       "<tr>\n",
       "  <th>Kurtosis:</th>       <td>45.593</td>  <th>  Cond. No.          </th>  <td>2.18e+18</td> \n",
       "</tr>\n",
       "</table><br/><br/>Warnings:<br/>[1] Standard Errors assume that the covariance matrix of the errors is correctly specified.<br/>[2] The smallest eigenvalue is 2.54e-18. This might indicate that there are<br/>strong multicollinearity problems or that the design matrix is singular."
      ],
      "text/plain": [
       "<class 'statsmodels.iolib.summary.Summary'>\n",
       "\"\"\"\n",
       "                            OLS Regression Results                            \n",
       "==============================================================================\n",
       "Dep. Variable:                      y   R-squared:                       0.538\n",
       "Model:                            OLS   Adj. R-squared:                  0.534\n",
       "Method:                 Least Squares   F-statistic:                     138.5\n",
       "Date:                Wed, 16 Oct 2019   Prob (F-statistic):               0.00\n",
       "Time:                        21:24:49   Log-Likelihood:                -95779.\n",
       "No. Observations:                4803   AIC:                         1.916e+05\n",
       "Df Residuals:                    4762   BIC:                         1.919e+05\n",
       "Df Model:                          40                                         \n",
       "Covariance Type:            nonrobust                                         \n",
       "==============================================================================\n",
       "                 coef    std err          t      P>|t|      [0.025      0.975]\n",
       "------------------------------------------------------------------------------\n",
       "const      -3.451e+07   2.33e+07     -1.480      0.139   -8.02e+07    1.12e+07\n",
       "x1          1.143e+07   1.09e+08      0.105      0.916   -2.02e+08    2.25e+08\n",
       "x2          1.098e+07   7.76e+07      0.141      0.888   -1.41e+08    1.63e+08\n",
       "x3          8.581e+06   3.38e+07      0.254      0.799   -5.76e+07    7.48e+07\n",
       "x4          4.863e+06   8.46e+07      0.057      0.954   -1.61e+08    1.71e+08\n",
       "x5          2.996e+05   4.29e+07      0.007      0.994   -8.37e+07    8.43e+07\n",
       "x6         -6.494e+06   2.45e+07     -0.266      0.791   -5.44e+07    4.14e+07\n",
       "x7          1.022e+07   1.09e+08      0.094      0.925   -2.03e+08    2.24e+08\n",
       "x8          4.457e+06    1.3e+07      0.344      0.731   -2.09e+07    2.99e+07\n",
       "x9          5.522e+06    2.3e+07      0.240      0.810   -3.96e+07    5.07e+07\n",
       "x10         6.049e+06   5.56e+07      0.109      0.913   -1.03e+08    1.15e+08\n",
       "x11        -6.451e+06   1.82e+07     -0.354      0.723   -4.22e+07    2.93e+07\n",
       "x12         5.831e+06   6.38e+07      0.091      0.927   -1.19e+08    1.31e+08\n",
       "x13         -6.73e+06    2.8e+07     -0.240      0.810   -6.17e+07    4.82e+07\n",
       "x14        -9.878e+06   1.09e+08     -0.091      0.928   -2.24e+08    2.04e+08\n",
       "x15         3.304e+06   7.76e+07      0.043      0.966   -1.49e+08    1.55e+08\n",
       "x16         1.402e+07   1.09e+08      0.129      0.898      -2e+08    2.28e+08\n",
       "x17        -3.983e+06   3.16e+07     -0.126      0.900    -6.6e+07     5.8e+07\n",
       "x18         2.298e+07   2.99e+07      0.768      0.443   -3.57e+07    8.17e+07\n",
       "x19        -1.821e+07   3.51e+07     -0.519      0.603    -8.7e+07    5.05e+07\n",
       "x20        -7.706e+06   1.09e+08     -0.071      0.944   -2.21e+08    2.06e+08\n",
       "x21         3.728e+05   1.09e+08      0.003      0.997   -2.13e+08    2.14e+08\n",
       "x22        -1.478e+07   5.56e+07     -0.266      0.790   -1.24e+08    9.42e+07\n",
       "x23         1.111e+07   1.09e+08      0.102      0.919   -2.03e+08    2.25e+08\n",
       "x24         2.073e+07   1.09e+08      0.190      0.849   -1.93e+08    2.34e+08\n",
       "x25         1.475e+07   1.09e+08      0.135      0.892   -1.99e+08    2.28e+08\n",
       "x26         3.998e+06   3.83e+07      0.104      0.917    -7.1e+07     7.9e+07\n",
       "x27         3.184e+06   7.76e+07      0.041      0.967   -1.49e+08    1.55e+08\n",
       "x28        -3.011e+07   3.51e+07     -0.859      0.390   -9.88e+07    3.86e+07\n",
       "x29         1.489e+07   1.09e+08      0.137      0.891   -1.99e+08    2.29e+08\n",
       "x30        -1.502e+07   5.01e+07     -0.300      0.764   -1.13e+08    8.31e+07\n",
       "x31        -1.965e+07   7.77e+07     -0.253      0.800   -1.72e+08    1.33e+08\n",
       "x32        -3.223e+07   1.09e+08     -0.296      0.768   -2.46e+08    1.81e+08\n",
       "x33         -7.43e+06   6.38e+07     -0.116      0.907   -1.32e+08    1.18e+08\n",
       "x34        -3.058e+07   1.09e+08     -0.281      0.779   -2.44e+08    1.83e+08\n",
       "x35        -1.077e+07   1.09e+08     -0.099      0.921   -2.24e+08    2.03e+08\n",
       "x36         2.853e+07   1.09e+08      0.262      0.793   -1.85e+08    2.42e+08\n",
       "x37        -2.057e+07   2.45e+07     -0.841      0.400   -6.85e+07    2.74e+07\n",
       "x38        -1.507e+07    5.4e+07     -0.279      0.780   -1.21e+08    9.08e+07\n",
       "x39        -1.644e+07   2.23e+07     -0.738      0.461   -6.01e+07    2.72e+07\n",
       "x40        -2.999e+06   4.14e+07     -0.072      0.942   -8.43e+07    7.83e+07\n",
       "x41            2.8523      0.041     68.777      0.000       2.771       2.934\n",
       "x42         4.344e+05   7.49e+04      5.803      0.000    2.88e+05    5.81e+05\n",
       "==============================================================================\n",
       "Omnibus:                     4233.211   Durbin-Watson:                   1.518\n",
       "Prob(Omnibus):                  0.000   Jarque-Bera (JB):           374564.014\n",
       "Skew:                           3.791   Prob(JB):                         0.00\n",
       "Kurtosis:                      45.593   Cond. No.                     2.18e+18\n",
       "==============================================================================\n",
       "\n",
       "Warnings:\n",
       "[1] Standard Errors assume that the covariance matrix of the errors is correctly specified.\n",
       "[2] The smallest eigenvalue is 2.54e-18. This might indicate that there are\n",
       "strong multicollinearity problems or that the design matrix is singular.\n",
       "\"\"\""
      ]
     },
     "execution_count": 30,
     "metadata": {},
     "output_type": "execute_result"
    }
   ],
   "source": [
    "X_opt = X[:,0:43]\n",
    "regressor_OLS = sm.OLS(y,X_opt).fit()\n",
    "regressor_OLS.summary()"
   ]
  },
  {
   "cell_type": "markdown",
   "metadata": {},
   "source": [
    "###### Backward Elimination Process to select independepent variables"
   ]
  },
  {
   "cell_type": "code",
   "execution_count": 31,
   "metadata": {},
   "outputs": [],
   "source": [
    "\n",
    "def backwardElimination(x, sl):\n",
    "    numVars = len(x[0])\n",
    "    for i in range(0, numVars):\n",
    "        regressor_OLS = sm.OLS(y, x).fit()\n",
    "        maxVar = max(regressor_OLS.pvalues).astype(float)\n",
    "        if maxVar > sl:\n",
    "            for j in range(0, numVars - i):\n",
    "                if (regressor_OLS.pvalues[j].astype(float) == maxVar):\n",
    "                    x = np.delete(x, j, 1)\n",
    "    print(regressor_OLS.summary())\n",
    "    return x"
   ]
  },
  {
   "cell_type": "code",
   "execution_count": 32,
   "metadata": {},
   "outputs": [
    {
     "name": "stdout",
     "output_type": "stream",
     "text": [
      "                            OLS Regression Results                            \n",
      "==============================================================================\n",
      "Dep. Variable:                      y   R-squared:                       0.537\n",
      "Model:                            OLS   Adj. R-squared:                  0.537\n",
      "Method:                 Least Squares   F-statistic:                     2786.\n",
      "Date:                Wed, 16 Oct 2019   Prob (F-statistic):               0.00\n",
      "Time:                        21:24:50   Log-Likelihood:                -95781.\n",
      "No. Observations:                4803   AIC:                         1.916e+05\n",
      "Df Residuals:                    4800   BIC:                         1.916e+05\n",
      "Df Model:                           2                                         \n",
      "Covariance Type:            nonrobust                                         \n",
      "==============================================================================\n",
      "                 coef    std err          t      P>|t|      [0.025      0.975]\n",
      "------------------------------------------------------------------------------\n",
      "const      -4.555e+07   7.78e+06     -5.852      0.000   -6.08e+07   -3.03e+07\n",
      "x1             2.8600      0.041     70.132      0.000       2.780       2.940\n",
      "x2          4.186e+05   7.35e+04      5.699      0.000    2.75e+05    5.63e+05\n",
      "==============================================================================\n",
      "Omnibus:                     4230.695   Durbin-Watson:                   1.517\n",
      "Prob(Omnibus):                  0.000   Jarque-Bera (JB):           373208.197\n",
      "Skew:                           3.789   Prob(JB):                         0.00\n",
      "Kurtosis:                      45.514   Cond. No.                     2.43e+08\n",
      "==============================================================================\n",
      "\n",
      "Warnings:\n",
      "[1] Standard Errors assume that the covariance matrix of the errors is correctly specified.\n",
      "[2] The condition number is large, 2.43e+08. This might indicate that there are\n",
      "strong multicollinearity or other numerical problems.\n"
     ]
    }
   ],
   "source": [
    "SL = 0.05\n",
    "X_opt = X[:, 0:43]\n",
    "X_Modeled = backwardElimination(X_opt, SL)"
   ]
  },
  {
   "cell_type": "code",
   "execution_count": 33,
   "metadata": {},
   "outputs": [],
   "source": [
    "# Splitting the dataset into the Training set and Test set\n",
    "from sklearn.model_selection import train_test_split\n",
    "X_train2, X_test2, y_train2, y_test2 = train_test_split(X_Modeled, y, test_size = 0.2, random_state = 0)"
   ]
  },
  {
   "cell_type": "code",
   "execution_count": 34,
   "metadata": {},
   "outputs": [
    {
     "data": {
      "text/plain": [
       "LinearRegression(copy_X=True, fit_intercept=True, n_jobs=1, normalize=False)"
      ]
     },
     "execution_count": 34,
     "metadata": {},
     "output_type": "execute_result"
    }
   ],
   "source": [
    "# Fitting Multiple Linear Regression to the Training set\n",
    "from sklearn.linear_model import LinearRegression\n",
    "regressor = LinearRegression()\n",
    "regressor.fit(X_train2, y_train2)"
   ]
  },
  {
   "cell_type": "code",
   "execution_count": 35,
   "metadata": {},
   "outputs": [],
   "source": [
    "# Predicting the Test set results\n",
    "y_pred2 = regressor.predict(X_test2)"
   ]
  },
  {
   "cell_type": "code",
   "execution_count": 36,
   "metadata": {},
   "outputs": [
    {
     "name": "stdout",
     "output_type": "stream",
     "text": [
      "The r-squared value is: 0.5443409299563824\n",
      "The explained variance score is: 0.5443910456788785\n",
      "The MAE is: 58941658.310919076\n",
      "The MSE is: 1.2549149824249878e+16\n"
     ]
    }
   ],
   "source": [
    "from sklearn.metrics import r2_score, explained_variance_score, mean_absolute_error, mean_squared_error\n",
    "#from sklearn.metrics import explained_variance_score\n",
    "print('The r-squared value is:',r2_score(y_test2, y_pred2))\n",
    "print('The explained variance score is:',explained_variance_score(y_test2, y_pred2))\n",
    "print('The MAE is:',mean_absolute_error(y_test2, y_pred2))\n",
    "print('The MSE is:',mean_squared_error(y_test2, y_pred2))"
   ]
  },
  {
   "cell_type": "code",
   "execution_count": null,
   "metadata": {},
   "outputs": [],
   "source": []
  }
 ],
 "metadata": {
  "kernelspec": {
   "display_name": "Python 3",
   "language": "python",
   "name": "python3"
  },
  "language_info": {
   "codemirror_mode": {
    "name": "ipython",
    "version": 3
   },
   "file_extension": ".py",
   "mimetype": "text/x-python",
   "name": "python",
   "nbconvert_exporter": "python",
   "pygments_lexer": "ipython3",
   "version": "3.7.0"
  }
 },
 "nbformat": 4,
 "nbformat_minor": 2
}
